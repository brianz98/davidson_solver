{
 "cells": [
  {
   "cell_type": "code",
   "execution_count": 1,
   "id": "df866152",
   "metadata": {},
   "outputs": [],
   "source": [
    "import numpy as np\n",
    "import time"
   ]
  },
  {
   "cell_type": "code",
   "execution_count": 2,
   "id": "c66da326",
   "metadata": {},
   "outputs": [],
   "source": [
    "\"\"\"\n",
    "System parameters\n",
    "\"\"\"\n",
    "n = 2000\n",
    "tol = 1e-8\n",
    "maxiter = 100"
   ]
  },
  {
   "cell_type": "code",
   "execution_count": 3,
   "id": "d83f638e",
   "metadata": {},
   "outputs": [],
   "source": [
    "\"\"\"\n",
    "Create sparse matrix\n",
    "\"\"\"\n",
    "sparsity = 0.01\n",
    "A = np.zeros((n,n))\n",
    "for i in range(0,n):\n",
    "    A[i,i] = i+1\n",
    "# randn is normal distribution\n",
    "A += sparsity*np.random.randn(n,n)\n",
    "A = (A.T+A)/2"
   ]
  },
  {
   "cell_type": "code",
   "execution_count": 4,
   "id": "d2d35186",
   "metadata": {},
   "outputs": [],
   "source": [
    "\"\"\"\n",
    "Define quantities needed in Davidson\n",
    "\"\"\"\n",
    "eigs = 3 # No. of eigenvectors to solve for\n",
    "k = 2*eigs # No. of trial vectors is about double that of no. of eigs\n",
    "t = np.eye(n,k) # 1000 by 8, so the columns are the trial unit vectors\n",
    "V = np.zeros((n,n))\n",
    "I = np.eye(n)"
   ]
  },
  {
   "cell_type": "code",
   "execution_count": 5,
   "id": "55c73b21",
   "metadata": {},
   "outputs": [],
   "source": [
    "\"\"\"\n",
    "The main Davidson routine\n",
    "\"\"\"\n",
    "start_davidson = time.time()\n",
    "for m in range(k,maxiter,k):\n",
    "    if m <= k:\n",
    "        # if this is the first iteration\n",
    "        for j in range(0,k):\n",
    "            V[:,j] = t[:,j]\n",
    "        theta_old = 1\n",
    "    else:\n",
    "        theta_old = theta[:eigs]\n",
    "    # 0-m is the subspace\n",
    "    # V is the orthonormalised matrix, and R is discarded\n",
    "    V[:,:m], R = np.linalg.qr(V[:,:m])\n",
    "    # T = V^T A V\n",
    "    T = np.dot(V[:,:m].T,np.dot(A,V[:,:m]))\n",
    "    t_eigval, t_eigv = np.linalg.eigh(T)\n",
    "    # idx is an array of indices that would sort t_eigval from smallest to biggest\n",
    "    # The BLAS dsyev already sorts them so no worries of having to write a sorting algo\n",
    "    idx = t_eigval.argsort()\n",
    "    theta = t_eigval[idx]\n",
    "    s = t_eigv[:,idx]\n",
    "    for j in range(0,k):\n",
    "        # w = (A-It) V s\n",
    "        w = np.dot((A-theta[j]*I),np.dot(V[:,:m],s[:,j]))\n",
    "        q = w/(theta[j]-A[j,j])\n",
    "        V[:,(m+j)] = q\n",
    "    # Check for convergence\n",
    "    norm = np.linalg.norm(theta[:eigs] - theta_old)\n",
    "    if norm < tol:\n",
    "        break\n",
    "end_davidson = time.time()"
   ]
  },
  {
   "cell_type": "code",
   "execution_count": 6,
   "id": "25b092d6",
   "metadata": {},
   "outputs": [
    {
     "name": "stdout",
     "output_type": "stream",
     "text": [
      "davidson =  [1.00536285 1.98923559 3.01954143] ; 1.6152057647705078 seconds\n",
      "numpy =  [1.00535621 1.98922871 3.01951537] ; 4.987552165985107 seconds\n"
     ]
    }
   ],
   "source": [
    "print(\"davidson = \", theta[:eigs],\";\",\n",
    "    end_davidson - start_davidson, \"seconds\")\n",
    "\n",
    "# Begin Numpy diagonalization of A\n",
    "\n",
    "start_numpy = time.time()\n",
    "\n",
    "E,Vec = np.linalg.eig(A)\n",
    "E = np.sort(E)\n",
    "\n",
    "end_numpy = time.time()\n",
    "\n",
    "# End of Numpy diagonalization. Print results.\n",
    "\n",
    "print(\"numpy = \", E[:eigs],\";\",\n",
    "     end_numpy - start_numpy, \"seconds\") "
   ]
  },
  {
   "cell_type": "code",
   "execution_count": 7,
   "id": "a585a72f",
   "metadata": {},
   "outputs": [
    {
     "data": {
      "text/plain": [
       "(96, 96)"
      ]
     },
     "execution_count": 7,
     "metadata": {},
     "output_type": "execute_result"
    }
   ],
   "source": [
    "s.shape"
   ]
  },
  {
   "cell_type": "code",
   "execution_count": null,
   "id": "1441227d",
   "metadata": {},
   "outputs": [],
   "source": []
  }
 ],
 "metadata": {
  "kernelspec": {
   "display_name": "Python 3",
   "language": "python",
   "name": "python3"
  },
  "language_info": {
   "codemirror_mode": {
    "name": "ipython",
    "version": 3
   },
   "file_extension": ".py",
   "mimetype": "text/x-python",
   "name": "python",
   "nbconvert_exporter": "python",
   "pygments_lexer": "ipython3",
   "version": "3.8.8"
  }
 },
 "nbformat": 4,
 "nbformat_minor": 5
}
